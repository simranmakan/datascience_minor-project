{
 "cells": [
  {
   "cell_type": "code",
   "execution_count": 1,
   "id": "6ab7b4ba-8eef-4a12-af98-de39c8613cd8",
   "metadata": {},
   "outputs": [
    {
     "name": "stdin",
     "output_type": "stream",
     "text": [
      "Enter your marks 40\n"
     ]
    },
    {
     "name": "stdout",
     "output_type": "stream",
     "text": [
      "Fail. Better Luck Next Time!!\n"
     ]
    }
   ],
   "source": [
    "#grade calculator\n",
    "\n",
    "marks = int(input(\"Enter your marks\"))\n",
    "\n",
    "if marks >=90:\n",
    "    print(\"Grade:A+\")\n",
    "elif marks >=80:\n",
    "    print(\"Grade:A\")\n",
    "elif marks >=70:\n",
    "    print(\"Grade:B\")\n",
    "elif marks >=60:\n",
    "    print(\"Grade:C\")\n",
    "elif marks >=50:\n",
    "    print(\"Grade:D\")\n",
    "else:\n",
    "    print(\"Fail. Better Luck Next Time!!\")"
   ]
  },
  {
   "cell_type": "code",
   "execution_count": null,
   "id": "78fb291d-bc8e-42a5-bfc1-90c1e221ec97",
   "metadata": {},
   "outputs": [],
   "source": []
  }
 ],
 "metadata": {
  "kernelspec": {
   "display_name": "Python 3 (ipykernel)",
   "language": "python",
   "name": "python3"
  },
  "language_info": {
   "codemirror_mode": {
    "name": "ipython",
    "version": 3
   },
   "file_extension": ".py",
   "mimetype": "text/x-python",
   "name": "python",
   "nbconvert_exporter": "python",
   "pygments_lexer": "ipython3",
   "version": "3.12.4"
  }
 },
 "nbformat": 4,
 "nbformat_minor": 5
}
