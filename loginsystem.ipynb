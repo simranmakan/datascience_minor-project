{
 "cells": [
  {
   "cell_type": "code",
   "execution_count": 1,
   "id": "80798d23-8ec8-45f6-b80a-b6a4f732c4b3",
   "metadata": {},
   "outputs": [
    {
     "name": "stdin",
     "output_type": "stream",
     "text": [
      "Enter username:  hazelwarner\n",
      "Enter password:  warner21\n"
     ]
    },
    {
     "name": "stdout",
     "output_type": "stream",
     "text": [
      "Login successful!!\n"
     ]
    }
   ],
   "source": [
    "#login system with 3 attempts\n",
    "\n",
    "username = \"hazelwarner\"\n",
    "password = \"warner21\"\n",
    "\n",
    "for i in range(3):\n",
    "    user = input(\"Enter username: \")\n",
    "    pswd = input(\"Enter password: \")\n",
    "    \n",
    "    if user == username and pswd == password:\n",
    "        print(\"Login successful!!\")\n",
    "        break\n",
    "    else:\n",
    "        print(\"Wrong username or password!\")\n",
    "        \n",
    "        # If this was the last attempt:\n",
    "        if i == 2:\n",
    "            print(\"3 attempts finished!!\")"
   ]
  },
  {
   "cell_type": "code",
   "execution_count": null,
   "id": "cdf6b49d-f3b4-4976-9409-279e97c4eb3a",
   "metadata": {},
   "outputs": [],
   "source": []
  }
 ],
 "metadata": {
  "kernelspec": {
   "display_name": "Python 3 (ipykernel)",
   "language": "python",
   "name": "python3"
  },
  "language_info": {
   "codemirror_mode": {
    "name": "ipython",
    "version": 3
   },
   "file_extension": ".py",
   "mimetype": "text/x-python",
   "name": "python",
   "nbconvert_exporter": "python",
   "pygments_lexer": "ipython3",
   "version": "3.12.4"
  }
 },
 "nbformat": 4,
 "nbformat_minor": 5
}
