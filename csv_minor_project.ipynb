{
 "cells": [
  {
   "cell_type": "code",
   "execution_count": 17,
   "id": "1bad65b5-6532-462e-a03b-08005a31d3ab",
   "metadata": {},
   "outputs": [
    {
     "name": "stdout",
     "output_type": "stream",
     "text": [
      "   sno    name  marks\n",
      "0    1   hazel    NaN\n",
      "1    2    zade   32.0\n",
      "2    3    alex   34.0\n",
      "3    4  steven    NaN\n",
      "4    5  zavier   23.0\n",
      "5    6    anny   98.0\n",
      "6    7   allie   34.0\n",
      "-------------------------------------------\n",
      "     sno   name  marks\n",
      "0  False  False   True\n",
      "1  False  False  False\n",
      "2  False  False  False\n",
      "3  False  False   True\n",
      "4  False  False  False\n",
      "5  False  False  False\n",
      "6  False  False  False\n",
      "-------------------------------------------\n",
      "   sno    name  marks\n",
      "0    1   hazel    0.0\n",
      "1    2    zade   32.0\n",
      "2    3    alex   34.0\n",
      "3    4  steven    0.0\n",
      "4    5  zavier   23.0\n",
      "5    6    anny   98.0\n",
      "6    7   allie   34.0\n",
      "-------------------------------------------\n",
      "   sno    name  marks\n",
      "1    2    zade   32.0\n",
      "2    3    alex   34.0\n",
      "4    5  zavier   23.0\n",
      "5    6    anny   98.0\n",
      "6    7   allie   34.0\n"
     ]
    }
   ],
   "source": [
    "import pandas as pd\n",
    "df=pd.read_csv(\"C:/Users/Student/Desktop/marks.csv\")\n",
    "print(df)\n",
    "print(\"-------------------------------------------\")\n",
    "print(df.isnull())\n",
    "print(\"-------------------------------------------\")\n",
    "print(df.fillna(0))\n",
    "print(\"-------------------------------------------\")\n",
    "print(df.dropna())\n"
   ]
  },
  {
   "cell_type": "code",
   "execution_count": null,
   "id": "225cf411-812f-463a-a0ea-ec210ad385fb",
   "metadata": {},
   "outputs": [],
   "source": []
  }
 ],
 "metadata": {
  "kernelspec": {
   "display_name": "Python 3 (ipykernel)",
   "language": "python",
   "name": "python3"
  },
  "language_info": {
   "codemirror_mode": {
    "name": "ipython",
    "version": 3
   },
   "file_extension": ".py",
   "mimetype": "text/x-python",
   "name": "python",
   "nbconvert_exporter": "python",
   "pygments_lexer": "ipython3",
   "version": "3.13.5"
  }
 },
 "nbformat": 4,
 "nbformat_minor": 5
}
