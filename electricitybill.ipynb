{
 "cells": [
  {
   "cell_type": "code",
   "execution_count": 8,
   "id": "0f04b124-17cd-4c39-9cf1-2fd6ea5083f3",
   "metadata": {},
   "outputs": [
    {
     "name": "stdin",
     "output_type": "stream",
     "text": [
      "electricity units consumed:  100\n"
     ]
    },
    {
     "name": "stdout",
     "output_type": "stream",
     "text": [
      "Total electrity bill is : 150.0\n"
     ]
    }
   ],
   "source": [
    "# Electricity Bill cenerator\n",
    "units = float (input (\"electricity units consumed: \"))\n",
    "if units <= 100:\n",
    "    bill = units * 1.5\n",
    "elif units <= 200:\n",
    "    bill = (100 * 1-5) + (units - 100) * 2.5\n",
    "elif units <= 300:\n",
    "    bill = (100 * 1.5) + (100 * 2.5) + (units - 200) +4\n",
    "else:\n",
    "    bill = (100 + 1-5) + (100 * 9.5) + (100 * 4) + (units - 300) * 6\n",
    "print ('Total electrity bill is :', bill )"
   ]
  },
  {
   "cell_type": "code",
   "execution_count": null,
   "id": "eb3eed93-4134-4127-a279-aa14545ca034",
   "metadata": {},
   "outputs": [],
   "source": []
  }
 ],
 "metadata": {
  "kernelspec": {
   "display_name": "Python 3 (ipykernel)",
   "language": "python",
   "name": "python3"
  },
  "language_info": {
   "codemirror_mode": {
    "name": "ipython",
    "version": 3
   },
   "file_extension": ".py",
   "mimetype": "text/x-python",
   "name": "python",
   "nbconvert_exporter": "python",
   "pygments_lexer": "ipython3",
   "version": "3.12.4"
  }
 },
 "nbformat": 4,
 "nbformat_minor": 5
}
