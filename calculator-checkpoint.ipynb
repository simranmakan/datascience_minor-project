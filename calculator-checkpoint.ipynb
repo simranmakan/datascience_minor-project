{
 "cells": [
  {
   "cell_type": "code",
   "execution_count": 2,
   "id": "2596e32b-0e0c-46e5-82b6-7d255000c3a5",
   "metadata": {},
   "outputs": [
    {
     "name": "stdout",
     "output_type": "stream",
     "text": [
      "Welcome to the Calculator\n",
      "Operations: +, -, *, /, ** (power), % (modulo)\n"
     ]
    },
    {
     "name": "stdin",
     "output_type": "stream",
     "text": [
      "Enter first number:  23\n",
      "Enter operator:  +\n",
      "Enter second number:  45\n"
     ]
    },
    {
     "name": "stdout",
     "output_type": "stream",
     "text": [
      "Result: 68.0\n"
     ]
    }
   ],
   "source": [
    "def calculator():\n",
    "    print(\"Welcome to the Calculator\")\n",
    "    print(\"Operations: +, -, *, /, ** (power), % (modulo)\")\n",
    "    \n",
    "    try:\n",
    "        num1 = float(input(\"Enter first number: \"))\n",
    "        op = input(\"Enter operator: \")\n",
    "        num2 = float(input(\"Enter second number: \"))\n",
    "        \n",
    "        if op == '+':\n",
    "            result = num1 + num2\n",
    "        elif op == '-':\n",
    "            result = num1 - num2\n",
    "        elif op == '*':\n",
    "            result = num1 * num2\n",
    "        elif op == '/':\n",
    "            result = num1 / num2\n",
    "        elif op == '**':\n",
    "            result = num1 ** num2\n",
    "        elif op == '%':\n",
    "            result = num1 % num2\n",
    "        else:\n",
    "            print(\"Invalid operator!\")\n",
    "            return\n",
    "\n",
    "        print(\"Result:\", result)\n",
    "    except Exception as e:\n",
    "        print(\"Error:\", e)\n",
    "\n",
    "# Run calculator\n",
    "calculator()\n"
   ]
  },
  {
   "cell_type": "code",
   "execution_count": null,
   "id": "0a496577-28ba-48c8-99b8-b831bdcd7377",
   "metadata": {},
   "outputs": [],
   "source": []
  }
 ],
 "metadata": {
  "kernelspec": {
   "display_name": "Python 3 (ipykernel)",
   "language": "python",
   "name": "python3"
  },
  "language_info": {
   "codemirror_mode": {
    "name": "ipython",
    "version": 3
   },
   "file_extension": ".py",
   "mimetype": "text/x-python",
   "name": "python",
   "nbconvert_exporter": "python",
   "pygments_lexer": "ipython3",
   "version": "3.13.5"
  }
 },
 "nbformat": 4,
 "nbformat_minor": 5
}
