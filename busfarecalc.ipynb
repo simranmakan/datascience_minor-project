{
 "cells": [
  {
   "cell_type": "code",
   "execution_count": 4,
   "id": "cf1e1df8-5edf-4ce8-a78f-d1e5d8af73ce",
   "metadata": {},
   "outputs": [
    {
     "name": "stdin",
     "output_type": "stream",
     "text": [
      "enter your age 78\n"
     ]
    },
    {
     "name": "stdout",
     "output_type": "stream",
     "text": [
      "senior citizen discount\n",
      "total fare to be paid 70.0\n"
     ]
    }
   ],
   "source": [
    "#bus fare\n",
    "\n",
    "a_fare = 100\n",
    "\n",
    "age = int(input(\"enter your age\"))\n",
    "\n",
    "if age<=5:\n",
    "    fare = 0\n",
    "    print(\"free for toddlers\")\n",
    "\n",
    "elif age<=12:\n",
    "    fare = a_fare *0.5\n",
    "    print(\"child discount\")\n",
    "\n",
    "elif age>=60:\n",
    "    fare = a_fare *0.7\n",
    "    print(\"senior citizen discount\")\n",
    "\n",
    "else:\n",
    "    fare = a_fare\n",
    "    print(\"actual fare applied\")\n",
    "\n",
    "print(\"total fare to be paid\" , fare)"
   ]
  }
 ],
 "metadata": {
  "kernelspec": {
   "display_name": "Python 3 (ipykernel)",
   "language": "python",
   "name": "python3"
  },
  "language_info": {
   "codemirror_mode": {
    "name": "ipython",
    "version": 3
   },
   "file_extension": ".py",
   "mimetype": "text/x-python",
   "name": "python",
   "nbconvert_exporter": "python",
   "pygments_lexer": "ipython3",
   "version": "3.12.4"
  }
 },
 "nbformat": 4,
 "nbformat_minor": 5
}
