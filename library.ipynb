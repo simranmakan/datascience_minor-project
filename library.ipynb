{
 "cells": [
  {
   "cell_type": "code",
   "execution_count": 1,
   "id": "4a1f34da-fb7a-40c6-98a0-710769ecc1da",
   "metadata": {},
   "outputs": [
    {
     "name": "stdin",
     "output_type": "stream",
     "text": [
      " Enter no. of days of overdue : 5\n"
     ]
    },
    {
     "name": "stdout",
     "output_type": "stream",
     "text": [
      " Pay fine: Rs. 10\n"
     ]
    }
   ],
   "source": [
    "#Library Fine Based on Days Overdue\n",
    "days = int(input (\" Enter no. of days of overdue :\"))\n",
    "if days <= 0: \n",
    "    print (\" No fine!\")\n",
    "elif days <= 5:\n",
    "    fine = days * 2\n",
    "    print (\" Pay fine: Rs.\", fine)\n",
    "elif days <= 10:\n",
    "    fine = days * 5\n",
    "    print (\" Pay fine: Rs.\", fine)\n",
    "elif days <= 30:\n",
    "    fine=days * 10\n",
    "    print (\"Pay fine : Rs.\", fine)\n",
    "else:\n",
    "    fine = days * 15"
   ]
  },
  {
   "cell_type": "code",
   "execution_count": null,
   "id": "18ac1ad4-5a9a-47c2-9154-cc4d4f1266f5",
   "metadata": {},
   "outputs": [],
   "source": []
  }
 ],
 "metadata": {
  "kernelspec": {
   "display_name": "Python 3 (ipykernel)",
   "language": "python",
   "name": "python3"
  },
  "language_info": {
   "codemirror_mode": {
    "name": "ipython",
    "version": 3
   },
   "file_extension": ".py",
   "mimetype": "text/x-python",
   "name": "python",
   "nbconvert_exporter": "python",
   "pygments_lexer": "ipython3",
   "version": "3.12.4"
  }
 },
 "nbformat": 4,
 "nbformat_minor": 5
}
