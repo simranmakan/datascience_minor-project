{
 "cells": [
  {
   "cell_type": "code",
   "execution_count": null,
   "id": "8fcf5deb-40dd-4969-a724-1f1de1964a46",
   "metadata": {},
   "outputs": [],
   "source": [
    "#age checker\n",
    "\n",
    "age = int(input(\"Enter Your Age\"))\n",
    "\n",
    "if age >= 18:\n",
    "    print(\"Eligible to Vote and Drive\")\n",
    "\n",
    "else:\n",
    "    print(\"You're just a kid.\")"
   ]
  }
 ],
 "metadata": {
  "kernelspec": {
   "display_name": "Python 3 (ipykernel)",
   "language": "python",
   "name": "python3"
  },
  "language_info": {
   "codemirror_mode": {
    "name": "ipython",
    "version": 3
   },
   "file_extension": ".py",
   "mimetype": "text/x-python",
   "name": "python",
   "nbconvert_exporter": "python",
   "pygments_lexer": "ipython3",
   "version": "3.12.4"
  }
 },
 "nbformat": 4,
 "nbformat_minor": 5
}
