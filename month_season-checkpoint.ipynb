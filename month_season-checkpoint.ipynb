{
 "cells": [
  {
   "cell_type": "code",
   "execution_count": 10,
   "id": "1f2bdb92-4fa7-49ce-9a9a-ae67b6692cad",
   "metadata": {},
   "outputs": [
    {
     "name": "stdin",
     "output_type": "stream",
     "text": [
      "enter the month name  november\n"
     ]
    },
    {
     "name": "stdout",
     "output_type": "stream",
     "text": [
      "all too well autumnnnn!!!\n"
     ]
    }
   ],
   "source": [
    "import pandas as pd\n",
    "import numpy as np\n",
    "winters = ['december','january' , 'february' , 'march']\n",
    "spring = ['april' ,'may']\n",
    "summer = ['june' , 'july']\n",
    "rainy = ['august' , 'september']\n",
    "autumn = ['october' , 'november']\n",
    "month = input('enter the month name ').strip().lower()\n",
    "\n",
    "if month in winters:\n",
    "    print(\"yayyyy wintersssss!!!\")\n",
    "elif month in spring:\n",
    "    print(\"prettyyyy springggg!!!\")\n",
    "elif month in summer:\n",
    "    print(\"ewww summerrrrr!!!\")\n",
    "elif month in rainy:\n",
    "    print(\"ughh rainnyyyyyy!!!\")\n",
    "else:\n",
    "    print(\"all too well autumnnnn!!!\")"
   ]
  },
  {
   "cell_type": "code",
   "execution_count": null,
   "id": "fcd77878-3a79-4f85-9885-0550333500e1",
   "metadata": {},
   "outputs": [],
   "source": []
  }
 ],
 "metadata": {
  "kernelspec": {
   "display_name": "Python 3 (ipykernel)",
   "language": "python",
   "name": "python3"
  },
  "language_info": {
   "codemirror_mode": {
    "name": "ipython",
    "version": 3
   },
   "file_extension": ".py",
   "mimetype": "text/x-python",
   "name": "python",
   "nbconvert_exporter": "python",
   "pygments_lexer": "ipython3",
   "version": "3.13.5"
  }
 },
 "nbformat": 4,
 "nbformat_minor": 5
}
